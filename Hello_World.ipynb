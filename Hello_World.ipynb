# Mon premier carnet Jupyter
print("Hello world!");
